{
 "cells": [
  {
   "attachments": {},
   "cell_type": "markdown",
   "metadata": {},
   "source": [
    "# MLG Assingment 2"
   ]
  },
  {
   "cell_type": "code",
   "execution_count": 1,
   "metadata": {},
   "outputs": [],
   "source": [
    "import pandas as pd\n",
    "import numpy as np\n",
    "import json\n",
    "import matplotlib.pyplot as plt\n",
    "import pickle\n",
    "\n",
    "from sklearn.model_selection import train_test_split,GridSearchCV\n",
    "from imblearn.over_sampling import RandomOverSampler\n",
    "from sklearn.ensemble import GradientBoostingClassifier\n",
    "from sklearn.impute import SimpleImputer\n",
    "from imblearn.pipeline import make_pipeline\n",
    "from sklearn.metrics import accuracy_score, precision_score, recall_score, f1_score\n",
    "from sklearn.metrics import (\n",
    "    ConfusionMatrixDisplay,\n",
    "    classification_report,\n",
    "    confusion_matrix,\n",
    ")\n"
   ]
  },
  {
   "attachments": {},
   "cell_type": "markdown",
   "metadata": {},
   "source": [
    "# Importing Data"
   ]
  },
  {
   "cell_type": "code",
   "execution_count": 2,
   "metadata": {},
   "outputs": [],
   "source": [
    "with open(\"poland-bankruptcy-data-2009.json\", \"r\") as read_file:\n",
    "    data = json.load(read_file)\n"
   ]
  },
  {
   "attachments": {},
   "cell_type": "markdown",
   "metadata": {},
   "source": [
    "# Data preperation"
   ]
  },
  {
   "cell_type": "code",
   "execution_count": 3,
   "metadata": {},
   "outputs": [
    {
     "data": {
      "text/html": [
       "<div>\n",
       "<style scoped>\n",
       "    .dataframe tbody tr th:only-of-type {\n",
       "        vertical-align: middle;\n",
       "    }\n",
       "\n",
       "    .dataframe tbody tr th {\n",
       "        vertical-align: top;\n",
       "    }\n",
       "\n",
       "    .dataframe thead th {\n",
       "        text-align: right;\n",
       "    }\n",
       "</style>\n",
       "<table border=\"1\" class=\"dataframe\">\n",
       "  <thead>\n",
       "    <tr style=\"text-align: right;\">\n",
       "      <th></th>\n",
       "      <th>company_id</th>\n",
       "      <th>feat_1</th>\n",
       "      <th>feat_2</th>\n",
       "      <th>feat_3</th>\n",
       "      <th>feat_4</th>\n",
       "      <th>feat_5</th>\n",
       "      <th>feat_6</th>\n",
       "      <th>feat_7</th>\n",
       "      <th>feat_8</th>\n",
       "      <th>feat_9</th>\n",
       "      <th>...</th>\n",
       "      <th>feat_56</th>\n",
       "      <th>feat_57</th>\n",
       "      <th>feat_58</th>\n",
       "      <th>feat_59</th>\n",
       "      <th>feat_60</th>\n",
       "      <th>feat_61</th>\n",
       "      <th>feat_62</th>\n",
       "      <th>feat_63</th>\n",
       "      <th>feat_64</th>\n",
       "      <th>bankrupt</th>\n",
       "    </tr>\n",
       "  </thead>\n",
       "  <tbody>\n",
       "    <tr>\n",
       "      <th>0</th>\n",
       "      <td>1</td>\n",
       "      <td>0.174190</td>\n",
       "      <td>0.41299</td>\n",
       "      <td>0.14371</td>\n",
       "      <td>1.3480</td>\n",
       "      <td>-28.9820</td>\n",
       "      <td>0.60383</td>\n",
       "      <td>0.219460</td>\n",
       "      <td>1.12250</td>\n",
       "      <td>1.1961</td>\n",
       "      <td>...</td>\n",
       "      <td>0.163960</td>\n",
       "      <td>0.375740</td>\n",
       "      <td>0.83604</td>\n",
       "      <td>0.000007</td>\n",
       "      <td>9.7145</td>\n",
       "      <td>6.2813</td>\n",
       "      <td>84.291</td>\n",
       "      <td>4.3303</td>\n",
       "      <td>4.0341</td>\n",
       "      <td>False</td>\n",
       "    </tr>\n",
       "    <tr>\n",
       "      <th>1</th>\n",
       "      <td>2</td>\n",
       "      <td>0.146240</td>\n",
       "      <td>0.46038</td>\n",
       "      <td>0.28230</td>\n",
       "      <td>1.6294</td>\n",
       "      <td>2.5952</td>\n",
       "      <td>0.00000</td>\n",
       "      <td>0.171850</td>\n",
       "      <td>1.17210</td>\n",
       "      <td>1.6018</td>\n",
       "      <td>...</td>\n",
       "      <td>0.027516</td>\n",
       "      <td>0.271000</td>\n",
       "      <td>0.90108</td>\n",
       "      <td>0.000000</td>\n",
       "      <td>5.9882</td>\n",
       "      <td>4.1103</td>\n",
       "      <td>102.190</td>\n",
       "      <td>3.5716</td>\n",
       "      <td>5.9500</td>\n",
       "      <td>False</td>\n",
       "    </tr>\n",
       "    <tr>\n",
       "      <th>2</th>\n",
       "      <td>3</td>\n",
       "      <td>0.000595</td>\n",
       "      <td>0.22612</td>\n",
       "      <td>0.48839</td>\n",
       "      <td>3.1599</td>\n",
       "      <td>84.8740</td>\n",
       "      <td>0.19114</td>\n",
       "      <td>0.004572</td>\n",
       "      <td>2.98810</td>\n",
       "      <td>1.0077</td>\n",
       "      <td>...</td>\n",
       "      <td>0.007639</td>\n",
       "      <td>0.000881</td>\n",
       "      <td>0.99236</td>\n",
       "      <td>0.000000</td>\n",
       "      <td>6.7742</td>\n",
       "      <td>3.7922</td>\n",
       "      <td>64.846</td>\n",
       "      <td>5.6287</td>\n",
       "      <td>4.4581</td>\n",
       "      <td>False</td>\n",
       "    </tr>\n",
       "    <tr>\n",
       "      <th>3</th>\n",
       "      <td>5</td>\n",
       "      <td>0.188290</td>\n",
       "      <td>0.41504</td>\n",
       "      <td>0.34231</td>\n",
       "      <td>1.9279</td>\n",
       "      <td>-58.2740</td>\n",
       "      <td>0.00000</td>\n",
       "      <td>0.233580</td>\n",
       "      <td>1.40940</td>\n",
       "      <td>1.3393</td>\n",
       "      <td>...</td>\n",
       "      <td>0.176480</td>\n",
       "      <td>0.321880</td>\n",
       "      <td>0.82635</td>\n",
       "      <td>0.073039</td>\n",
       "      <td>2.5912</td>\n",
       "      <td>7.0756</td>\n",
       "      <td>100.540</td>\n",
       "      <td>3.6303</td>\n",
       "      <td>4.6375</td>\n",
       "      <td>False</td>\n",
       "    </tr>\n",
       "    <tr>\n",
       "      <th>4</th>\n",
       "      <td>6</td>\n",
       "      <td>0.182060</td>\n",
       "      <td>0.55615</td>\n",
       "      <td>0.32191</td>\n",
       "      <td>1.6045</td>\n",
       "      <td>16.3140</td>\n",
       "      <td>0.00000</td>\n",
       "      <td>0.182060</td>\n",
       "      <td>0.79808</td>\n",
       "      <td>1.8126</td>\n",
       "      <td>...</td>\n",
       "      <td>0.555770</td>\n",
       "      <td>0.410190</td>\n",
       "      <td>0.46957</td>\n",
       "      <td>0.029421</td>\n",
       "      <td>8.4553</td>\n",
       "      <td>3.3488</td>\n",
       "      <td>107.240</td>\n",
       "      <td>3.4036</td>\n",
       "      <td>12.4540</td>\n",
       "      <td>False</td>\n",
       "    </tr>\n",
       "  </tbody>\n",
       "</table>\n",
       "<p>5 rows × 66 columns</p>\n",
       "</div>"
      ],
      "text/plain": [
       "   company_id    feat_1   feat_2   feat_3  feat_4   feat_5   feat_6    feat_7  \\\n",
       "0           1  0.174190  0.41299  0.14371  1.3480 -28.9820  0.60383  0.219460   \n",
       "1           2  0.146240  0.46038  0.28230  1.6294   2.5952  0.00000  0.171850   \n",
       "2           3  0.000595  0.22612  0.48839  3.1599  84.8740  0.19114  0.004572   \n",
       "3           5  0.188290  0.41504  0.34231  1.9279 -58.2740  0.00000  0.233580   \n",
       "4           6  0.182060  0.55615  0.32191  1.6045  16.3140  0.00000  0.182060   \n",
       "\n",
       "    feat_8  feat_9  ...   feat_56   feat_57  feat_58   feat_59  feat_60  \\\n",
       "0  1.12250  1.1961  ...  0.163960  0.375740  0.83604  0.000007   9.7145   \n",
       "1  1.17210  1.6018  ...  0.027516  0.271000  0.90108  0.000000   5.9882   \n",
       "2  2.98810  1.0077  ...  0.007639  0.000881  0.99236  0.000000   6.7742   \n",
       "3  1.40940  1.3393  ...  0.176480  0.321880  0.82635  0.073039   2.5912   \n",
       "4  0.79808  1.8126  ...  0.555770  0.410190  0.46957  0.029421   8.4553   \n",
       "\n",
       "   feat_61  feat_62  feat_63  feat_64  bankrupt  \n",
       "0   6.2813   84.291   4.3303   4.0341     False  \n",
       "1   4.1103  102.190   3.5716   5.9500     False  \n",
       "2   3.7922   64.846   5.6287   4.4581     False  \n",
       "3   7.0756  100.540   3.6303   4.6375     False  \n",
       "4   3.3488  107.240   3.4036  12.4540     False  \n",
       "\n",
       "[5 rows x 66 columns]"
      ]
     },
     "execution_count": 3,
     "metadata": {},
     "output_type": "execute_result"
    }
   ],
   "source": [
    "dataframe = pd.DataFrame().from_dict(data['data'])\n",
    "dataframe.head()"
   ]
  },
  {
   "cell_type": "code",
   "execution_count": 4,
   "metadata": {},
   "outputs": [
    {
     "data": {
      "text/html": [
       "<div>\n",
       "<style scoped>\n",
       "    .dataframe tbody tr th:only-of-type {\n",
       "        vertical-align: middle;\n",
       "    }\n",
       "\n",
       "    .dataframe tbody tr th {\n",
       "        vertical-align: top;\n",
       "    }\n",
       "\n",
       "    .dataframe thead th {\n",
       "        text-align: right;\n",
       "    }\n",
       "</style>\n",
       "<table border=\"1\" class=\"dataframe\">\n",
       "  <thead>\n",
       "    <tr style=\"text-align: right;\">\n",
       "      <th></th>\n",
       "      <th>company_id</th>\n",
       "      <th>feat_1</th>\n",
       "      <th>feat_2</th>\n",
       "      <th>feat_3</th>\n",
       "      <th>feat_4</th>\n",
       "      <th>feat_5</th>\n",
       "      <th>feat_6</th>\n",
       "      <th>feat_7</th>\n",
       "      <th>feat_8</th>\n",
       "      <th>feat_9</th>\n",
       "      <th>...</th>\n",
       "      <th>feat_55</th>\n",
       "      <th>feat_56</th>\n",
       "      <th>feat_57</th>\n",
       "      <th>feat_58</th>\n",
       "      <th>feat_59</th>\n",
       "      <th>feat_60</th>\n",
       "      <th>feat_61</th>\n",
       "      <th>feat_62</th>\n",
       "      <th>feat_63</th>\n",
       "      <th>feat_64</th>\n",
       "    </tr>\n",
       "  </thead>\n",
       "  <tbody>\n",
       "    <tr>\n",
       "      <th>count</th>\n",
       "      <td>9977.000000</td>\n",
       "      <td>9977.000000</td>\n",
       "      <td>9977.000000</td>\n",
       "      <td>9977.000000</td>\n",
       "      <td>9960.000000</td>\n",
       "      <td>9.952000e+03</td>\n",
       "      <td>9977.000000</td>\n",
       "      <td>9977.000000</td>\n",
       "      <td>9964.000000</td>\n",
       "      <td>9974.000000</td>\n",
       "      <td>...</td>\n",
       "      <td>9.977000e+03</td>\n",
       "      <td>9935.000000</td>\n",
       "      <td>9977.000000</td>\n",
       "      <td>9948.000000</td>\n",
       "      <td>9977.000000</td>\n",
       "      <td>9.415000e+03</td>\n",
       "      <td>9961.00000</td>\n",
       "      <td>9.935000e+03</td>\n",
       "      <td>9960.000000</td>\n",
       "      <td>9765.000000</td>\n",
       "    </tr>\n",
       "    <tr>\n",
       "      <th>mean</th>\n",
       "      <td>5252.399419</td>\n",
       "      <td>0.052688</td>\n",
       "      <td>0.623634</td>\n",
       "      <td>0.088614</td>\n",
       "      <td>10.067323</td>\n",
       "      <td>-1.412557e+03</td>\n",
       "      <td>-0.124340</td>\n",
       "      <td>0.065407</td>\n",
       "      <td>16.757657</td>\n",
       "      <td>1.820532</td>\n",
       "      <td>...</td>\n",
       "      <td>6.771696e+03</td>\n",
       "      <td>-0.561651</td>\n",
       "      <td>-0.028476</td>\n",
       "      <td>3.976806</td>\n",
       "      <td>1.486227</td>\n",
       "      <td>5.938426e+02</td>\n",
       "      <td>13.62412</td>\n",
       "      <td>1.364510e+02</td>\n",
       "      <td>9.034435</td>\n",
       "      <td>36.291450</td>\n",
       "    </tr>\n",
       "    <tr>\n",
       "      <th>std</th>\n",
       "      <td>3030.164482</td>\n",
       "      <td>0.662816</td>\n",
       "      <td>6.590734</td>\n",
       "      <td>6.584543</td>\n",
       "      <td>537.128699</td>\n",
       "      <td>1.216712e+05</td>\n",
       "      <td>7.145680</td>\n",
       "      <td>0.666113</td>\n",
       "      <td>673.845491</td>\n",
       "      <td>7.771473</td>\n",
       "      <td>...</td>\n",
       "      <td>6.121491e+04</td>\n",
       "      <td>57.438557</td>\n",
       "      <td>19.134737</td>\n",
       "      <td>195.155108</td>\n",
       "      <td>79.262784</td>\n",
       "      <td>3.812344e+04</td>\n",
       "      <td>73.22837</td>\n",
       "      <td>2.666901e+04</td>\n",
       "      <td>31.773572</td>\n",
       "      <td>438.506192</td>\n",
       "    </tr>\n",
       "    <tr>\n",
       "      <th>min</th>\n",
       "      <td>1.000000</td>\n",
       "      <td>-17.692000</td>\n",
       "      <td>0.000000</td>\n",
       "      <td>-479.730000</td>\n",
       "      <td>0.002080</td>\n",
       "      <td>-1.190300e+07</td>\n",
       "      <td>-508.120000</td>\n",
       "      <td>-17.692000</td>\n",
       "      <td>-2.081800</td>\n",
       "      <td>-1.215700</td>\n",
       "      <td>...</td>\n",
       "      <td>-7.513800e+05</td>\n",
       "      <td>-5691.700000</td>\n",
       "      <td>-1667.300000</td>\n",
       "      <td>-198.690000</td>\n",
       "      <td>-172.070000</td>\n",
       "      <td>0.000000e+00</td>\n",
       "      <td>-6.59030</td>\n",
       "      <td>-2.336500e+06</td>\n",
       "      <td>-0.000156</td>\n",
       "      <td>-0.000102</td>\n",
       "    </tr>\n",
       "    <tr>\n",
       "      <th>25%</th>\n",
       "      <td>2636.000000</td>\n",
       "      <td>0.000700</td>\n",
       "      <td>0.255280</td>\n",
       "      <td>0.016341</td>\n",
       "      <td>1.036150</td>\n",
       "      <td>-5.266650e+01</td>\n",
       "      <td>0.000000</td>\n",
       "      <td>0.002265</td>\n",
       "      <td>0.430778</td>\n",
       "      <td>1.011100</td>\n",
       "      <td>...</td>\n",
       "      <td>1.304300e+01</td>\n",
       "      <td>0.005136</td>\n",
       "      <td>0.007051</td>\n",
       "      <td>0.875850</td>\n",
       "      <td>0.000000</td>\n",
       "      <td>5.532000e+00</td>\n",
       "      <td>4.49120</td>\n",
       "      <td>4.101200e+01</td>\n",
       "      <td>3.049300</td>\n",
       "      <td>2.003100</td>\n",
       "    </tr>\n",
       "    <tr>\n",
       "      <th>50%</th>\n",
       "      <td>5259.000000</td>\n",
       "      <td>0.042731</td>\n",
       "      <td>0.465920</td>\n",
       "      <td>0.197570</td>\n",
       "      <td>1.600650</td>\n",
       "      <td>1.495950e+00</td>\n",
       "      <td>0.000000</td>\n",
       "      <td>0.050661</td>\n",
       "      <td>1.104150</td>\n",
       "      <td>1.197300</td>\n",
       "      <td>...</td>\n",
       "      <td>8.874800e+02</td>\n",
       "      <td>0.051546</td>\n",
       "      <td>0.106550</td>\n",
       "      <td>0.953130</td>\n",
       "      <td>0.003356</td>\n",
       "      <td>9.933700e+00</td>\n",
       "      <td>6.67050</td>\n",
       "      <td>7.093200e+01</td>\n",
       "      <td>5.116700</td>\n",
       "      <td>4.031400</td>\n",
       "    </tr>\n",
       "    <tr>\n",
       "      <th>75%</th>\n",
       "      <td>7875.000000</td>\n",
       "      <td>0.123140</td>\n",
       "      <td>0.690060</td>\n",
       "      <td>0.415680</td>\n",
       "      <td>2.950525</td>\n",
       "      <td>5.601725e+01</td>\n",
       "      <td>0.071759</td>\n",
       "      <td>0.141700</td>\n",
       "      <td>2.827425</td>\n",
       "      <td>2.044550</td>\n",
       "      <td>...</td>\n",
       "      <td>4.363300e+03</td>\n",
       "      <td>0.129640</td>\n",
       "      <td>0.271860</td>\n",
       "      <td>0.995923</td>\n",
       "      <td>0.249600</td>\n",
       "      <td>2.077800e+01</td>\n",
       "      <td>10.58400</td>\n",
       "      <td>1.187050e+02</td>\n",
       "      <td>8.846400</td>\n",
       "      <td>9.574000</td>\n",
       "    </tr>\n",
       "    <tr>\n",
       "      <th>max</th>\n",
       "      <td>10503.000000</td>\n",
       "      <td>52.652000</td>\n",
       "      <td>480.730000</td>\n",
       "      <td>17.708000</td>\n",
       "      <td>53433.000000</td>\n",
       "      <td>6.854400e+05</td>\n",
       "      <td>45.533000</td>\n",
       "      <td>52.652000</td>\n",
       "      <td>53432.000000</td>\n",
       "      <td>740.440000</td>\n",
       "      <td>...</td>\n",
       "      <td>3.380500e+06</td>\n",
       "      <td>293.150000</td>\n",
       "      <td>552.640000</td>\n",
       "      <td>18118.000000</td>\n",
       "      <td>7617.300000</td>\n",
       "      <td>3.660200e+06</td>\n",
       "      <td>4246.70000</td>\n",
       "      <td>1.073500e+06</td>\n",
       "      <td>1974.500000</td>\n",
       "      <td>21499.000000</td>\n",
       "    </tr>\n",
       "  </tbody>\n",
       "</table>\n",
       "<p>8 rows × 65 columns</p>\n",
       "</div>"
      ],
      "text/plain": [
       "         company_id       feat_1       feat_2       feat_3        feat_4  \\\n",
       "count   9977.000000  9977.000000  9977.000000  9977.000000   9960.000000   \n",
       "mean    5252.399419     0.052688     0.623634     0.088614     10.067323   \n",
       "std     3030.164482     0.662816     6.590734     6.584543    537.128699   \n",
       "min        1.000000   -17.692000     0.000000  -479.730000      0.002080   \n",
       "25%     2636.000000     0.000700     0.255280     0.016341      1.036150   \n",
       "50%     5259.000000     0.042731     0.465920     0.197570      1.600650   \n",
       "75%     7875.000000     0.123140     0.690060     0.415680      2.950525   \n",
       "max    10503.000000    52.652000   480.730000    17.708000  53433.000000   \n",
       "\n",
       "             feat_5       feat_6       feat_7        feat_8       feat_9  ...  \\\n",
       "count  9.952000e+03  9977.000000  9977.000000   9964.000000  9974.000000  ...   \n",
       "mean  -1.412557e+03    -0.124340     0.065407     16.757657     1.820532  ...   \n",
       "std    1.216712e+05     7.145680     0.666113    673.845491     7.771473  ...   \n",
       "min   -1.190300e+07  -508.120000   -17.692000     -2.081800    -1.215700  ...   \n",
       "25%   -5.266650e+01     0.000000     0.002265      0.430778     1.011100  ...   \n",
       "50%    1.495950e+00     0.000000     0.050661      1.104150     1.197300  ...   \n",
       "75%    5.601725e+01     0.071759     0.141700      2.827425     2.044550  ...   \n",
       "max    6.854400e+05    45.533000    52.652000  53432.000000   740.440000  ...   \n",
       "\n",
       "            feat_55      feat_56      feat_57       feat_58      feat_59  \\\n",
       "count  9.977000e+03  9935.000000  9977.000000   9948.000000  9977.000000   \n",
       "mean   6.771696e+03    -0.561651    -0.028476      3.976806     1.486227   \n",
       "std    6.121491e+04    57.438557    19.134737    195.155108    79.262784   \n",
       "min   -7.513800e+05 -5691.700000 -1667.300000   -198.690000  -172.070000   \n",
       "25%    1.304300e+01     0.005136     0.007051      0.875850     0.000000   \n",
       "50%    8.874800e+02     0.051546     0.106550      0.953130     0.003356   \n",
       "75%    4.363300e+03     0.129640     0.271860      0.995923     0.249600   \n",
       "max    3.380500e+06   293.150000   552.640000  18118.000000  7617.300000   \n",
       "\n",
       "            feat_60     feat_61       feat_62      feat_63       feat_64  \n",
       "count  9.415000e+03  9961.00000  9.935000e+03  9960.000000   9765.000000  \n",
       "mean   5.938426e+02    13.62412  1.364510e+02     9.034435     36.291450  \n",
       "std    3.812344e+04    73.22837  2.666901e+04    31.773572    438.506192  \n",
       "min    0.000000e+00    -6.59030 -2.336500e+06    -0.000156     -0.000102  \n",
       "25%    5.532000e+00     4.49120  4.101200e+01     3.049300      2.003100  \n",
       "50%    9.933700e+00     6.67050  7.093200e+01     5.116700      4.031400  \n",
       "75%    2.077800e+01    10.58400  1.187050e+02     8.846400      9.574000  \n",
       "max    3.660200e+06  4246.70000  1.073500e+06  1974.500000  21499.000000  \n",
       "\n",
       "[8 rows x 65 columns]"
      ]
     },
     "execution_count": 4,
     "metadata": {},
     "output_type": "execute_result"
    }
   ],
   "source": [
    "dataframe.describe()"
   ]
  },
  {
   "cell_type": "code",
   "execution_count": 5,
   "metadata": {},
   "outputs": [
    {
     "data": {
      "text/plain": [
       "company_id      0\n",
       "feat_1          0\n",
       "feat_2          0\n",
       "feat_3          0\n",
       "feat_4         17\n",
       "             ... \n",
       "feat_61        16\n",
       "feat_62        42\n",
       "feat_63        17\n",
       "feat_64       212\n",
       "bankrupt        0\n",
       "Length: 66, dtype: int64"
      ]
     },
     "execution_count": 5,
     "metadata": {},
     "output_type": "execute_result"
    }
   ],
   "source": [
    "dataframe.isnull().sum()"
   ]
  },
  {
   "attachments": {},
   "cell_type": "markdown",
   "metadata": {},
   "source": [
    "Dropping Company_id"
   ]
  },
  {
   "cell_type": "code",
   "execution_count": 6,
   "metadata": {},
   "outputs": [],
   "source": [
    "dataframe.drop(columns=[\"company_id\"],inplace=True)\n"
   ]
  },
  {
   "cell_type": "code",
   "execution_count": 7,
   "metadata": {},
   "outputs": [
    {
     "name": "stdout",
     "output_type": "stream",
     "text": [
      "<class 'pandas.core.frame.DataFrame'>\n",
      "RangeIndex: 9977 entries, 0 to 9976\n",
      "Data columns (total 65 columns):\n",
      " #   Column    Non-Null Count  Dtype  \n",
      "---  ------    --------------  -----  \n",
      " 0   feat_1    9977 non-null   float64\n",
      " 1   feat_2    9977 non-null   float64\n",
      " 2   feat_3    9977 non-null   float64\n",
      " 3   feat_4    9960 non-null   float64\n",
      " 4   feat_5    9952 non-null   float64\n",
      " 5   feat_6    9977 non-null   float64\n",
      " 6   feat_7    9977 non-null   float64\n",
      " 7   feat_8    9964 non-null   float64\n",
      " 8   feat_9    9974 non-null   float64\n",
      " 9   feat_10   9977 non-null   float64\n",
      " 10  feat_11   9977 non-null   float64\n",
      " 11  feat_12   9960 non-null   float64\n",
      " 12  feat_13   9935 non-null   float64\n",
      " 13  feat_14   9977 non-null   float64\n",
      " 14  feat_15   9970 non-null   float64\n",
      " 15  feat_16   9964 non-null   float64\n",
      " 16  feat_17   9964 non-null   float64\n",
      " 17  feat_18   9977 non-null   float64\n",
      " 18  feat_19   9935 non-null   float64\n",
      " 19  feat_20   9935 non-null   float64\n",
      " 20  feat_21   9205 non-null   float64\n",
      " 21  feat_22   9977 non-null   float64\n",
      " 22  feat_23   9935 non-null   float64\n",
      " 23  feat_24   9764 non-null   float64\n",
      " 24  feat_25   9977 non-null   float64\n",
      " 25  feat_26   9964 non-null   float64\n",
      " 26  feat_27   9312 non-null   float64\n",
      " 27  feat_28   9765 non-null   float64\n",
      " 28  feat_29   9977 non-null   float64\n",
      " 29  feat_30   9935 non-null   float64\n",
      " 30  feat_31   9935 non-null   float64\n",
      " 31  feat_32   9881 non-null   float64\n",
      " 32  feat_33   9960 non-null   float64\n",
      " 33  feat_34   9964 non-null   float64\n",
      " 34  feat_35   9977 non-null   float64\n",
      " 35  feat_36   9977 non-null   float64\n",
      " 36  feat_37   5499 non-null   float64\n",
      " 37  feat_38   9977 non-null   float64\n",
      " 38  feat_39   9935 non-null   float64\n",
      " 39  feat_40   9960 non-null   float64\n",
      " 40  feat_41   9787 non-null   float64\n",
      " 41  feat_42   9935 non-null   float64\n",
      " 42  feat_43   9935 non-null   float64\n",
      " 43  feat_44   9935 non-null   float64\n",
      " 44  feat_45   9416 non-null   float64\n",
      " 45  feat_46   9960 non-null   float64\n",
      " 46  feat_47   9896 non-null   float64\n",
      " 47  feat_48   9977 non-null   float64\n",
      " 48  feat_49   9935 non-null   float64\n",
      " 49  feat_50   9964 non-null   float64\n",
      " 50  feat_51   9977 non-null   float64\n",
      " 51  feat_52   9896 non-null   float64\n",
      " 52  feat_53   9765 non-null   float64\n",
      " 53  feat_54   9765 non-null   float64\n",
      " 54  feat_55   9977 non-null   float64\n",
      " 55  feat_56   9935 non-null   float64\n",
      " 56  feat_57   9977 non-null   float64\n",
      " 57  feat_58   9948 non-null   float64\n",
      " 58  feat_59   9977 non-null   float64\n",
      " 59  feat_60   9415 non-null   float64\n",
      " 60  feat_61   9961 non-null   float64\n",
      " 61  feat_62   9935 non-null   float64\n",
      " 62  feat_63   9960 non-null   float64\n",
      " 63  feat_64   9765 non-null   float64\n",
      " 64  bankrupt  9977 non-null   bool   \n",
      "dtypes: bool(1), float64(64)\n",
      "memory usage: 4.9 MB\n"
     ]
    }
   ],
   "source": [
    "dataframe.info()"
   ]
  },
  {
   "cell_type": "code",
   "execution_count": 8,
   "metadata": {},
   "outputs": [
    {
     "data": {
      "text/plain": [
       "feat_1      0\n",
       "feat_2      0\n",
       "feat_3      0\n",
       "feat_4      0\n",
       "feat_5      0\n",
       "           ..\n",
       "feat_61     0\n",
       "feat_62     0\n",
       "feat_63     0\n",
       "feat_64     0\n",
       "bankrupt    0\n",
       "Length: 65, dtype: int64"
      ]
     },
     "execution_count": 8,
     "metadata": {},
     "output_type": "execute_result"
    }
   ],
   "source": [
    "dataframe = dataframe.fillna(dataframe.mean())\n",
    "dataframe.isnull().sum()"
   ]
  },
  {
   "attachments": {},
   "cell_type": "markdown",
   "metadata": {},
   "source": [
    "Splitting  the data"
   ]
  },
  {
   "cell_type": "code",
   "execution_count": 9,
   "metadata": {},
   "outputs": [
    {
     "name": "stdout",
     "output_type": "stream",
     "text": [
      "X_train shape: (7981, 64)\n",
      "y_train shape: (7981,)\n",
      "X_test shape: (1996, 64)\n",
      "y_test shape: (1996,)\n"
     ]
    }
   ],
   "source": [
    "X = dataframe.iloc[:, :-1]\n",
    "Y = dataframe.iloc[:, -1]\n",
    "# split the dataset\n",
    "X_train, X_test, Y_train, Y_test = train_test_split( X,Y,\n",
    "    test_size=0.2, random_state=0)\n",
    "print(\"X_train shape:\", X_train.shape)\n",
    "print(\"y_train shape:\", Y_train.shape)\n",
    "print(\"X_test shape:\", X_test.shape)\n",
    "print(\"y_test shape:\", Y_test.shape)"
   ]
  },
  {
   "attachments": {},
   "cell_type": "markdown",
   "metadata": {},
   "source": [
    "Imputing data"
   ]
  },
  {
   "cell_type": "code",
   "execution_count": 10,
   "metadata": {},
   "outputs": [],
   "source": [
    "\n",
    "X_train.replace('?',np.NaN,inplace=True )\n",
    "imp=SimpleImputer(missing_values=np.NaN,strategy='mean')\n",
    "idf=pd.DataFrame(imp.fit_transform(X_train))\n",
    "idf.columns=X_train.columns\n",
    "idf.index=X_train.index"
   ]
  },
  {
   "cell_type": "code",
   "execution_count": 11,
   "metadata": {},
   "outputs": [
    {
     "name": "stdout",
     "output_type": "stream",
     "text": [
      "feat_1     0\n",
      "feat_2     0\n",
      "feat_3     0\n",
      "feat_4     0\n",
      "feat_5     0\n",
      "          ..\n",
      "feat_60    0\n",
      "feat_61    0\n",
      "feat_62    0\n",
      "feat_63    0\n",
      "feat_64    0\n",
      "Length: 64, dtype: int64\n"
     ]
    }
   ],
   "source": [
    "print(X_train.isnull().sum())"
   ]
  },
  {
   "attachments": {},
   "cell_type": "markdown",
   "metadata": {},
   "source": [
    "# Resampling "
   ]
  },
  {
   "attachments": {},
   "cell_type": "markdown",
   "metadata": {},
   "source": [
    "Viewing imbalance of data first "
   ]
  },
  {
   "cell_type": "code",
   "execution_count": 12,
   "metadata": {},
   "outputs": [
    {
     "data": {
      "text/plain": [
       "<Axes: >"
      ]
     },
     "execution_count": 12,
     "metadata": {},
     "output_type": "execute_result"
    },
    {
     "data": {
      "image/png": "[encoded data removed]",
      "text/plain": [
       "<Figure size 640x480 with 1 Axes>"
      ]
     },
     "metadata": {},
     "output_type": "display_data"
    }
   ],
   "source": [
    "dataframe.bankrupt.value_counts(normalize=True).plot(kind='bar')"
   ]
  },
  {
   "attachments": {},
   "cell_type": "markdown",
   "metadata": {},
   "source": [
    "Resampling the data so there is more variance to make disicions by using the Random Over-Sampling method "
   ]
  },
  {
   "cell_type": "code",
   "execution_count": 13,
   "metadata": {},
   "outputs": [
    {
     "name": "stdout",
     "output_type": "stream",
     "text": [
      "feat_1     0\n",
      "feat_2     0\n",
      "feat_3     0\n",
      "feat_4     0\n",
      "feat_5     0\n",
      "          ..\n",
      "feat_60    0\n",
      "feat_61    0\n",
      "feat_62    0\n",
      "feat_63    0\n",
      "feat_64    0\n",
      "Length: 64, dtype: int64\n"
     ]
    }
   ],
   "source": [
    "over_sampler = RandomOverSampler(random_state = 42)\n",
    "\n",
    "X_train_over,y_train_over=over_sampler.fit_resample(X_train,Y_train)\n",
    "print(X_train_over.isnull().sum())"
   ]
  },
  {
   "attachments": {},
   "cell_type": "markdown",
   "metadata": {},
   "source": [
    "Plotting data distribution"
   ]
  },
  {
   "cell_type": "code",
   "execution_count": 14,
   "metadata": {},
   "outputs": [
    {
     "data": {
      "text/plain": [
       "<Axes: >"
      ]
     },
     "execution_count": 14,
     "metadata": {},
     "output_type": "execute_result"
    },
    {
     "data": {
      "image/png": "[encoded data removed]",
      "text/plain": [
       "<Figure size 640x480 with 1 Axes>"
      ]
     },
     "metadata": {},
     "output_type": "display_data"
    }
   ],
   "source": [
    "y_train_over.value_counts(normalize=True).plot(kind='bar')"
   ]
  },
  {
   "attachments": {},
   "cell_type": "markdown",
   "metadata": {},
   "source": [
    "# Hyperparameter tuning "
   ]
  },
  {
   "attachments": {},
   "cell_type": "markdown",
   "metadata": {},
   "source": [
    "Building model"
   ]
  },
  {
   "cell_type": "code",
   "execution_count": 15,
   "metadata": {},
   "outputs": [
    {
     "data": {
      "text/html": [
       "<style>#sk-container-id-1 {color: black;background-color: white;}#sk-container-id-1 pre{padding: 0;}#sk-container-id-1 div.sk-toggleable {background-color: white;}#sk-container-id-1 label.sk-toggleable__label {cursor: pointer;display: block;width: 100%;margin-bottom: 0;padding: 0.3em;box-sizing: border-box;text-align: center;}#sk-container-id-1 label.sk-toggleable__label-arrow:before {content: \"▸\";float: left;margin-right: 0.25em;color: #696969;}#sk-container-id-1 label.sk-toggleable__label-arrow:hover:before {color: black;}#sk-container-id-1 div.sk-estimator:hover label.sk-toggleable__label-arrow:before {color: black;}#sk-container-id-1 div.sk-toggleable__content {max-height: 0;max-width: 0;overflow: hidden;text-align: left;background-color: #f0f8ff;}#sk-container-id-1 div.sk-toggleable__content pre {margin: 0.2em;color: black;border-radius: 0.25em;background-color: #f0f8ff;}#sk-container-id-1 input.sk-toggleable__control:checked~div.sk-toggleable__content {max-height: 200px;max-width: 100%;overflow: auto;}#sk-container-id-1 input.sk-toggleable__control:checked~label.sk-toggleable__label-arrow:before {content: \"▾\";}#sk-container-id-1 div.sk-estimator input.sk-toggleable__control:checked~label.sk-toggleable__label {background-color: #d4ebff;}#sk-container-id-1 div.sk-label input.sk-toggleable__control:checked~label.sk-toggleable__label {background-color: #d4ebff;}#sk-container-id-1 input.sk-hidden--visually {border: 0;clip: rect(1px 1px 1px 1px);clip: rect(1px, 1px, 1px, 1px);height: 1px;margin: -1px;overflow: hidden;padding: 0;position: absolute;width: 1px;}#sk-container-id-1 div.sk-estimator {font-family: monospace;background-color: #f0f8ff;border: 1px dotted black;border-radius: 0.25em;box-sizing: border-box;margin-bottom: 0.5em;}#sk-container-id-1 div.sk-estimator:hover {background-color: #d4ebff;}#sk-container-id-1 div.sk-parallel-item::after {content: \"\";width: 100%;border-bottom: 1px solid gray;flex-grow: 1;}#sk-container-id-1 div.sk-label:hover label.sk-toggleable__label {background-color: #d4ebff;}#sk-container-id-1 div.sk-serial::before {content: \"\";position: absolute;border-left: 1px solid gray;box-sizing: border-box;top: 0;bottom: 0;left: 50%;z-index: 0;}#sk-container-id-1 div.sk-serial {display: flex;flex-direction: column;align-items: center;background-color: white;padding-right: 0.2em;padding-left: 0.2em;position: relative;}#sk-container-id-1 div.sk-item {position: relative;z-index: 1;}#sk-container-id-1 div.sk-parallel {display: flex;align-items: stretch;justify-content: center;background-color: white;position: relative;}#sk-container-id-1 div.sk-item::before, #sk-container-id-1 div.sk-parallel-item::before {content: \"\";position: absolute;border-left: 1px solid gray;box-sizing: border-box;top: 0;bottom: 0;left: 50%;z-index: -1;}#sk-container-id-1 div.sk-parallel-item {display: flex;flex-direction: column;z-index: 1;position: relative;background-color: white;}#sk-container-id-1 div.sk-parallel-item:first-child::after {align-self: flex-end;width: 50%;}#sk-container-id-1 div.sk-parallel-item:last-child::after {align-self: flex-start;width: 50%;}#sk-container-id-1 div.sk-parallel-item:only-child::after {width: 0;}#sk-container-id-1 div.sk-dashed-wrapped {border: 1px dashed gray;margin: 0 0.4em 0.5em 0.4em;box-sizing: border-box;padding-bottom: 0.4em;background-color: white;}#sk-container-id-1 div.sk-label label {font-family: monospace;font-weight: bold;display: inline-block;line-height: 1.2em;}#sk-container-id-1 div.sk-label-container {text-align: center;}#sk-container-id-1 div.sk-container {/* jupyter's `normalize.less` sets `[hidden] { display: none; }` but bootstrap.min.css set `[hidden] { display: none !important; }` so we also need the `!important` here to be able to override the default hidden behavior on the sphinx rendered scikit-learn.org. See: https://github.com/scikit-learn/scikit-learn/issues/21755 */display: inline-block !important;position: relative;}#sk-container-id-1 div.sk-text-repr-fallback {display: none;}</style><div id=\"sk-container-id-1\" class=\"sk-top-container\"><div class=\"sk-text-repr-fallback\"><pre>GradientBoostingClassifier(learning_rate=1, max_depth=2, max_features=2,\n",
       "                           n_estimators=20, random_state=0)</pre><b>In a Jupyter environment, please rerun this cell to show the HTML representation or trust the notebook. <br />On GitHub, the HTML representation is unable to render, please try loading this page with nbviewer.org.</b></div><div class=\"sk-container\" hidden><div class=\"sk-item\"><div class=\"sk-estimator sk-toggleable\"><input class=\"sk-toggleable__control sk-hidden--visually\" id=\"sk-estimator-id-1\" type=\"checkbox\" checked><label for=\"sk-estimator-id-1\" class=\"sk-toggleable__label sk-toggleable__label-arrow\">GradientBoostingClassifier</label><div class=\"sk-toggleable__content\"><pre>GradientBoostingClassifier(learning_rate=1, max_depth=2, max_features=2,\n",
       "                           n_estimators=20, random_state=0)</pre></div></div></div></div></div>"
      ],
      "text/plain": [
       "GradientBoostingClassifier(learning_rate=1, max_depth=2, max_features=2,\n",
       "                           n_estimators=20, random_state=0)"
      ]
     },
     "execution_count": 15,
     "metadata": {},
     "output_type": "execute_result"
    }
   ],
   "source": [
    "gb_clf = GradientBoostingClassifier(n_estimators=20, learning_rate=1, max_features=2, max_depth=2, random_state=0)\n",
    "gb_clf.fit(X_train_over, y_train_over)\n"
   ]
  },
  {
   "cell_type": "code",
   "execution_count": 16,
   "metadata": {},
   "outputs": [
    {
     "name": "stdout",
     "output_type": "stream",
     "text": [
      "Best parameters:  {'learning_rate': 0.3, 'max_depth': 5, 'n_estimators': 150}\n",
      "Best score: 1.00\n"
     ]
    }
   ],
   "source": [
    "\n",
    "param_grid = {\n",
    " 'n_estimators': [150,100],\n",
    " 'learning_rate': [ 0.3,0.6 ],\n",
    " 'max_depth': [2 , 3 ,5 ]\n",
    "}\n",
    "\n",
    "grid_search = GridSearchCV(gb_clf, param_grid, cv=5, scoring=\"recall\", n_jobs=-1)\n",
    "grid_search.fit(X_train_over, y_train_over)\n",
    "\n",
    "print(\"Best parameters: \", grid_search.best_params_)\n",
    "print(\"Best score: {:.2f}\".format(grid_search.best_score_))"
   ]
  },
  {
   "attachments": {},
   "cell_type": "markdown",
   "metadata": {},
   "source": [
    "# Feature importance"
   ]
  },
  {
   "cell_type": "code",
   "execution_count": 17,
   "metadata": {},
   "outputs": [
    {
     "data": {
      "text/html": [
       "<style>#sk-container-id-2 {color: black;background-color: white;}#sk-container-id-2 pre{padding: 0;}#sk-container-id-2 div.sk-toggleable {background-color: white;}#sk-container-id-2 label.sk-toggleable__label {cursor: pointer;display: block;width: 100%;margin-bottom: 0;padding: 0.3em;box-sizing: border-box;text-align: center;}#sk-container-id-2 label.sk-toggleable__label-arrow:before {content: \"▸\";float: left;margin-right: 0.25em;color: #696969;}#sk-container-id-2 label.sk-toggleable__label-arrow:hover:before {color: black;}#sk-container-id-2 div.sk-estimator:hover label.sk-toggleable__label-arrow:before {color: black;}#sk-container-id-2 div.sk-toggleable__content {max-height: 0;max-width: 0;overflow: hidden;text-align: left;background-color: #f0f8ff;}#sk-container-id-2 div.sk-toggleable__content pre {margin: 0.2em;color: black;border-radius: 0.25em;background-color: #f0f8ff;}#sk-container-id-2 input.sk-toggleable__control:checked~div.sk-toggleable__content {max-height: 200px;max-width: 100%;overflow: auto;}#sk-container-id-2 input.sk-toggleable__control:checked~label.sk-toggleable__label-arrow:before {content: \"▾\";}#sk-container-id-2 div.sk-estimator input.sk-toggleable__control:checked~label.sk-toggleable__label {background-color: #d4ebff;}#sk-container-id-2 div.sk-label input.sk-toggleable__control:checked~label.sk-toggleable__label {background-color: #d4ebff;}#sk-container-id-2 input.sk-hidden--visually {border: 0;clip: rect(1px 1px 1px 1px);clip: rect(1px, 1px, 1px, 1px);height: 1px;margin: -1px;overflow: hidden;padding: 0;position: absolute;width: 1px;}#sk-container-id-2 div.sk-estimator {font-family: monospace;background-color: #f0f8ff;border: 1px dotted black;border-radius: 0.25em;box-sizing: border-box;margin-bottom: 0.5em;}#sk-container-id-2 div.sk-estimator:hover {background-color: #d4ebff;}#sk-container-id-2 div.sk-parallel-item::after {content: \"\";width: 100%;border-bottom: 1px solid gray;flex-grow: 1;}#sk-container-id-2 div.sk-label:hover label.sk-toggleable__label {background-color: #d4ebff;}#sk-container-id-2 div.sk-serial::before {content: \"\";position: absolute;border-left: 1px solid gray;box-sizing: border-box;top: 0;bottom: 0;left: 50%;z-index: 0;}#sk-container-id-2 div.sk-serial {display: flex;flex-direction: column;align-items: center;background-color: white;padding-right: 0.2em;padding-left: 0.2em;position: relative;}#sk-container-id-2 div.sk-item {position: relative;z-index: 1;}#sk-container-id-2 div.sk-parallel {display: flex;align-items: stretch;justify-content: center;background-color: white;position: relative;}#sk-container-id-2 div.sk-item::before, #sk-container-id-2 div.sk-parallel-item::before {content: \"\";position: absolute;border-left: 1px solid gray;box-sizing: border-box;top: 0;bottom: 0;left: 50%;z-index: -1;}#sk-container-id-2 div.sk-parallel-item {display: flex;flex-direction: column;z-index: 1;position: relative;background-color: white;}#sk-container-id-2 div.sk-parallel-item:first-child::after {align-self: flex-end;width: 50%;}#sk-container-id-2 div.sk-parallel-item:last-child::after {align-self: flex-start;width: 50%;}#sk-container-id-2 div.sk-parallel-item:only-child::after {width: 0;}#sk-container-id-2 div.sk-dashed-wrapped {border: 1px dashed gray;margin: 0 0.4em 0.5em 0.4em;box-sizing: border-box;padding-bottom: 0.4em;background-color: white;}#sk-container-id-2 div.sk-label label {font-family: monospace;font-weight: bold;display: inline-block;line-height: 1.2em;}#sk-container-id-2 div.sk-label-container {text-align: center;}#sk-container-id-2 div.sk-container {/* jupyter's `normalize.less` sets `[hidden] { display: none; }` but bootstrap.min.css set `[hidden] { display: none !important; }` so we also need the `!important` here to be able to override the default hidden behavior on the sphinx rendered scikit-learn.org. See: https://github.com/scikit-learn/scikit-learn/issues/21755 */display: inline-block !important;position: relative;}#sk-container-id-2 div.sk-text-repr-fallback {display: none;}</style><div id=\"sk-container-id-2\" class=\"sk-top-container\"><div class=\"sk-text-repr-fallback\"><pre>Pipeline(steps=[(&#x27;simpleimputer&#x27;, SimpleImputer()),\n",
       "                (&#x27;gradientboostingclassifier&#x27;,\n",
       "                 GradientBoostingClassifier(n_estimators=75, random_state=42))])</pre><b>In a Jupyter environment, please rerun this cell to show the HTML representation or trust the notebook. <br />On GitHub, the HTML representation is unable to render, please try loading this page with nbviewer.org.</b></div><div class=\"sk-container\" hidden><div class=\"sk-item sk-dashed-wrapped\"><div class=\"sk-label-container\"><div class=\"sk-label sk-toggleable\"><input class=\"sk-toggleable__control sk-hidden--visually\" id=\"sk-estimator-id-2\" type=\"checkbox\" ><label for=\"sk-estimator-id-2\" class=\"sk-toggleable__label sk-toggleable__label-arrow\">Pipeline</label><div class=\"sk-toggleable__content\"><pre>Pipeline(steps=[(&#x27;simpleimputer&#x27;, SimpleImputer()),\n",
       "                (&#x27;gradientboostingclassifier&#x27;,\n",
       "                 GradientBoostingClassifier(n_estimators=75, random_state=42))])</pre></div></div></div><div class=\"sk-serial\"><div class=\"sk-item\"><div class=\"sk-estimator sk-toggleable\"><input class=\"sk-toggleable__control sk-hidden--visually\" id=\"sk-estimator-id-3\" type=\"checkbox\" ><label for=\"sk-estimator-id-3\" class=\"sk-toggleable__label sk-toggleable__label-arrow\">SimpleImputer</label><div class=\"sk-toggleable__content\"><pre>SimpleImputer()</pre></div></div></div><div class=\"sk-item\"><div class=\"sk-estimator sk-toggleable\"><input class=\"sk-toggleable__control sk-hidden--visually\" id=\"sk-estimator-id-4\" type=\"checkbox\" ><label for=\"sk-estimator-id-4\" class=\"sk-toggleable__label sk-toggleable__label-arrow\">GradientBoostingClassifier</label><div class=\"sk-toggleable__content\"><pre>GradientBoostingClassifier(n_estimators=75, random_state=42)</pre></div></div></div></div></div></div></div>"
      ],
      "text/plain": [
       "Pipeline(steps=[('simpleimputer', SimpleImputer()),\n",
       "                ('gradientboostingclassifier',\n",
       "                 GradientBoostingClassifier(n_estimators=75, random_state=42))])"
      ]
     },
     "execution_count": 17,
     "metadata": {},
     "output_type": "execute_result"
    }
   ],
   "source": [
    "# Define the pipeline\n",
    "pipe = make_pipeline(SimpleImputer(strategy='mean'),\n",
    "                         GradientBoostingClassifier(\n",
    "                            n_estimators=75,\n",
    "                            random_state=42)\n",
    "                         )\n",
    "pipe.fit(X_train,Y_train)"
   ]
  },
  {
   "cell_type": "code",
   "execution_count": 18,
   "metadata": {},
   "outputs": [],
   "source": [
    "y_pred = pipe.predict(X_train)"
   ]
  },
  {
   "cell_type": "code",
   "execution_count": 19,
   "metadata": {},
   "outputs": [
    {
     "name": "stdout",
     "output_type": "stream",
     "text": [
      "Training Accuracy: 0.9742\n",
      "Testing Accuracy: 0.9709\n"
     ]
    }
   ],
   "source": [
    "acc_train = pipe.score(X_train,Y_train)\n",
    "acc_test = pipe.score(X_test,Y_test)\n",
    "\n",
    "print(\"Training Accuracy:\",round(acc_train,4))\n",
    "print(\"Testing Accuracy:\",round(acc_test,4))"
   ]
  },
  {
   "cell_type": "code",
   "execution_count": 20,
   "metadata": {},
   "outputs": [],
   "source": [
    "y_pred_test = pipe.predict(X_test)\n"
   ]
  },
  {
   "cell_type": "code",
   "execution_count": 21,
   "metadata": {},
   "outputs": [],
   "source": [
    "accuracy = accuracy_score(Y_test, y_pred_test)\n",
    "precision = precision_score(Y_test, y_pred_test)\n",
    "recall = recall_score(Y_test, y_pred_test)\n",
    "f1 = f1_score(Y_test, y_pred_test)"
   ]
  },
  {
   "cell_type": "code",
   "execution_count": 22,
   "metadata": {},
   "outputs": [
    {
     "name": "stdout",
     "output_type": "stream",
     "text": [
      "Accuracy: 0.971\n",
      "Precision: 0.844\n",
      "Recall: 0.338\n",
      "F1-Score: 0.482\n"
     ]
    }
   ],
   "source": [
    "print('Accuracy: {:.3f}'.format(accuracy))\n",
    "print('Precision: {:.3f}'.format(precision))\n",
    "print('Recall: {:.3f}'.format(recall))\n",
    "print('F1-Score: {:.3f}'.format(f1))"
   ]
  },
  {
   "cell_type": "code",
   "execution_count": 23,
   "metadata": {},
   "outputs": [],
   "source": [
    "with open('model-1.pkl','wb') as f: \n",
    "  pickle.dump(grid_search,f)"
   ]
  },
  {
   "cell_type": "code",
   "execution_count": 24,
   "metadata": {},
   "outputs": [
    {
     "data": {
      "text/plain": [
       "Text(0.5, 1.0, 'Feature Importance')"
      ]
     },
     "execution_count": 24,
     "metadata": {},
     "output_type": "execute_result"
    },
    {
     "data": {
      "image/png": "[encoded data removed]",
      "text/plain": [
       "<Figure size 600x400 with 1 Axes>"
      ]
     },
     "metadata": {},
     "output_type": "display_data"
    }
   ],
   "source": [
    "# Get feature names\n",
    "features = X_train_over.columns\n",
    "\n",
    "# Extract importance from the model\n",
    "coefficients = pipe.named_steps['gradientboostingclassifier'].feature_importances_\n",
    "\n",
    "# Create a series of feature importance\n",
    "feature_imp = pd.Series(coefficients, index=features).sort_values(ascending=True)\n",
    "\n",
    "# Plot feature importance (top 10 features) on a horizontal bar chart\n",
    "feature_imp.tail(10).plot(kind='barh', figsize=(6,4))\n",
    "# plt.xlabel('Gini Importance')\n",
    "# plt.ylabel('Feature')\n",
    "plt.title('Feature Importance')"
   ]
  },
  {
   "attachments": {},
   "cell_type": "markdown",
   "metadata": {},
   "source": [
    "# Reporting"
   ]
  }
 ],
 "metadata": {
  "kernelspec": {
   "display_name": "base",
   "language": "python",
   "name": "python3"
  },
  "language_info": {
   "codemirror_mode": {
    "name": "ipython",
    "version": 3
   },
   "file_extension": ".py",
   "mimetype": "text/x-python",
   "name": "python",
   "nbconvert_exporter": "python",
   "pygments_lexer": "ipython3",
   "version": "3.10.9"
  },
  "orig_nbformat": 4
 },
 "nbformat": 4,
 "nbformat_minor": 2
}
